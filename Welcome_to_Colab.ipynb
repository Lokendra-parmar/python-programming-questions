{
  "cells": [
    {
      "cell_type": "markdown",
      "metadata": {
        "id": "view-in-github",
        "colab_type": "text"
      },
      "source": [
        "<a href=\"https://colab.research.google.com/github/Lokendra-parmar/python-programming-questions/blob/main/Welcome_to_Colab.ipynb\" target=\"_parent\"><img src=\"https://colab.research.google.com/assets/colab-badge.svg\" alt=\"Open In Colab\"/></a>"
      ]
    },
    {
      "cell_type": "markdown",
      "source": [
        "# GA_5_MLP"
      ],
      "metadata": {
        "id": "v2RMPpA9fg29"
      }
    },
    {
      "cell_type": "code",
      "source": [
        "import pandas as pd\n",
        "from sklearn.model_selection import train_test_split\n",
        "\n",
        "# Step 2: Upload the dataset\n",
        "from google.colab import files\n",
        "uploaded = files.upload()"
      ],
      "metadata": {
        "colab": {
          "base_uri": "https://localhost:8080/",
          "height": 73
        },
        "id": "GcizXku4X4wC",
        "outputId": "da4ce9b3-6868-46e1-8ab8-59b8fa65d3ba"
      },
      "execution_count": 5,
      "outputs": [
        {
          "output_type": "display_data",
          "data": {
            "text/plain": [
              "<IPython.core.display.HTML object>"
            ],
            "text/html": [
              "\n",
              "     <input type=\"file\" id=\"files-12f1d2cc-aaab-41f5-94e4-024c08557a08\" name=\"files[]\" multiple disabled\n",
              "        style=\"border:none\" />\n",
              "     <output id=\"result-12f1d2cc-aaab-41f5-94e4-024c08557a08\">\n",
              "      Upload widget is only available when the cell has been executed in the\n",
              "      current browser session. Please rerun this cell to enable.\n",
              "      </output>\n",
              "      <script>// Copyright 2017 Google LLC\n",
              "//\n",
              "// Licensed under the Apache License, Version 2.0 (the \"License\");\n",
              "// you may not use this file except in compliance with the License.\n",
              "// You may obtain a copy of the License at\n",
              "//\n",
              "//      http://www.apache.org/licenses/LICENSE-2.0\n",
              "//\n",
              "// Unless required by applicable law or agreed to in writing, software\n",
              "// distributed under the License is distributed on an \"AS IS\" BASIS,\n",
              "// WITHOUT WARRANTIES OR CONDITIONS OF ANY KIND, either express or implied.\n",
              "// See the License for the specific language governing permissions and\n",
              "// limitations under the License.\n",
              "\n",
              "/**\n",
              " * @fileoverview Helpers for google.colab Python module.\n",
              " */\n",
              "(function(scope) {\n",
              "function span(text, styleAttributes = {}) {\n",
              "  const element = document.createElement('span');\n",
              "  element.textContent = text;\n",
              "  for (const key of Object.keys(styleAttributes)) {\n",
              "    element.style[key] = styleAttributes[key];\n",
              "  }\n",
              "  return element;\n",
              "}\n",
              "\n",
              "// Max number of bytes which will be uploaded at a time.\n",
              "const MAX_PAYLOAD_SIZE = 100 * 1024;\n",
              "\n",
              "function _uploadFiles(inputId, outputId) {\n",
              "  const steps = uploadFilesStep(inputId, outputId);\n",
              "  const outputElement = document.getElementById(outputId);\n",
              "  // Cache steps on the outputElement to make it available for the next call\n",
              "  // to uploadFilesContinue from Python.\n",
              "  outputElement.steps = steps;\n",
              "\n",
              "  return _uploadFilesContinue(outputId);\n",
              "}\n",
              "\n",
              "// This is roughly an async generator (not supported in the browser yet),\n",
              "// where there are multiple asynchronous steps and the Python side is going\n",
              "// to poll for completion of each step.\n",
              "// This uses a Promise to block the python side on completion of each step,\n",
              "// then passes the result of the previous step as the input to the next step.\n",
              "function _uploadFilesContinue(outputId) {\n",
              "  const outputElement = document.getElementById(outputId);\n",
              "  const steps = outputElement.steps;\n",
              "\n",
              "  const next = steps.next(outputElement.lastPromiseValue);\n",
              "  return Promise.resolve(next.value.promise).then((value) => {\n",
              "    // Cache the last promise value to make it available to the next\n",
              "    // step of the generator.\n",
              "    outputElement.lastPromiseValue = value;\n",
              "    return next.value.response;\n",
              "  });\n",
              "}\n",
              "\n",
              "/**\n",
              " * Generator function which is called between each async step of the upload\n",
              " * process.\n",
              " * @param {string} inputId Element ID of the input file picker element.\n",
              " * @param {string} outputId Element ID of the output display.\n",
              " * @return {!Iterable<!Object>} Iterable of next steps.\n",
              " */\n",
              "function* uploadFilesStep(inputId, outputId) {\n",
              "  const inputElement = document.getElementById(inputId);\n",
              "  inputElement.disabled = false;\n",
              "\n",
              "  const outputElement = document.getElementById(outputId);\n",
              "  outputElement.innerHTML = '';\n",
              "\n",
              "  const pickedPromise = new Promise((resolve) => {\n",
              "    inputElement.addEventListener('change', (e) => {\n",
              "      resolve(e.target.files);\n",
              "    });\n",
              "  });\n",
              "\n",
              "  const cancel = document.createElement('button');\n",
              "  inputElement.parentElement.appendChild(cancel);\n",
              "  cancel.textContent = 'Cancel upload';\n",
              "  const cancelPromise = new Promise((resolve) => {\n",
              "    cancel.onclick = () => {\n",
              "      resolve(null);\n",
              "    };\n",
              "  });\n",
              "\n",
              "  // Wait for the user to pick the files.\n",
              "  const files = yield {\n",
              "    promise: Promise.race([pickedPromise, cancelPromise]),\n",
              "    response: {\n",
              "      action: 'starting',\n",
              "    }\n",
              "  };\n",
              "\n",
              "  cancel.remove();\n",
              "\n",
              "  // Disable the input element since further picks are not allowed.\n",
              "  inputElement.disabled = true;\n",
              "\n",
              "  if (!files) {\n",
              "    return {\n",
              "      response: {\n",
              "        action: 'complete',\n",
              "      }\n",
              "    };\n",
              "  }\n",
              "\n",
              "  for (const file of files) {\n",
              "    const li = document.createElement('li');\n",
              "    li.append(span(file.name, {fontWeight: 'bold'}));\n",
              "    li.append(span(\n",
              "        `(${file.type || 'n/a'}) - ${file.size} bytes, ` +\n",
              "        `last modified: ${\n",
              "            file.lastModifiedDate ? file.lastModifiedDate.toLocaleDateString() :\n",
              "                                    'n/a'} - `));\n",
              "    const percent = span('0% done');\n",
              "    li.appendChild(percent);\n",
              "\n",
              "    outputElement.appendChild(li);\n",
              "\n",
              "    const fileDataPromise = new Promise((resolve) => {\n",
              "      const reader = new FileReader();\n",
              "      reader.onload = (e) => {\n",
              "        resolve(e.target.result);\n",
              "      };\n",
              "      reader.readAsArrayBuffer(file);\n",
              "    });\n",
              "    // Wait for the data to be ready.\n",
              "    let fileData = yield {\n",
              "      promise: fileDataPromise,\n",
              "      response: {\n",
              "        action: 'continue',\n",
              "      }\n",
              "    };\n",
              "\n",
              "    // Use a chunked sending to avoid message size limits. See b/62115660.\n",
              "    let position = 0;\n",
              "    do {\n",
              "      const length = Math.min(fileData.byteLength - position, MAX_PAYLOAD_SIZE);\n",
              "      const chunk = new Uint8Array(fileData, position, length);\n",
              "      position += length;\n",
              "\n",
              "      const base64 = btoa(String.fromCharCode.apply(null, chunk));\n",
              "      yield {\n",
              "        response: {\n",
              "          action: 'append',\n",
              "          file: file.name,\n",
              "          data: base64,\n",
              "        },\n",
              "      };\n",
              "\n",
              "      let percentDone = fileData.byteLength === 0 ?\n",
              "          100 :\n",
              "          Math.round((position / fileData.byteLength) * 100);\n",
              "      percent.textContent = `${percentDone}% done`;\n",
              "\n",
              "    } while (position < fileData.byteLength);\n",
              "  }\n",
              "\n",
              "  // All done.\n",
              "  yield {\n",
              "    response: {\n",
              "      action: 'complete',\n",
              "    }\n",
              "  };\n",
              "}\n",
              "\n",
              "scope.google = scope.google || {};\n",
              "scope.google.colab = scope.google.colab || {};\n",
              "scope.google.colab._files = {\n",
              "  _uploadFiles,\n",
              "  _uploadFilesContinue,\n",
              "};\n",
              "})(self);\n",
              "</script> "
            ]
          },
          "metadata": {}
        },
        {
          "output_type": "stream",
          "name": "stdout",
          "text": [
            "Saving GA_5_dataset.csv to GA_5_dataset.csv\n"
          ]
        }
      ]
    },
    {
      "cell_type": "code",
      "source": [
        "df = pd.read_csv('GA_5_dataset.csv')  # Make sure the file name is correct\n",
        "\n",
        "# Step 4: Separate features (X) and target (y)\n",
        "X = df.drop(columns=['Credit_Limit'])  # Features\n",
        "y = df['Credit_Limit']                # Target\n",
        "\n",
        "# Step 5: Split the data (70% train, 30% test)\n",
        "X_train, X_test, y_train, y_test = train_test_split(X, y,\n",
        "                                                    test_size=0.3,\n",
        "                                                    random_state=42)\n",
        "\n",
        "# Step 6: Check the shapes\n",
        "print(\"Shape of X_train:\", X_train.shape)\n",
        "print(\"Shape of X_test :\", X_test.shape)\n",
        "print(\"Shape of y_train:\", y_train.shape)\n",
        "print(\"Shape of y_test :\", y_test.shape)"
      ],
      "metadata": {
        "colab": {
          "base_uri": "https://localhost:8080/"
        },
        "id": "u1DmB_u6YT6u",
        "outputId": "ef1206b7-6f61-488e-db54-09237e10d8b9"
      },
      "execution_count": 6,
      "outputs": [
        {
          "output_type": "stream",
          "name": "stdout",
          "text": [
            "Shape of X_train: (4200, 16)\n",
            "Shape of X_test : (1800, 16)\n",
            "Shape of y_train: (4200,)\n",
            "Shape of y_test : (1800,)\n"
          ]
        }
      ]
    },
    {
      "cell_type": "code",
      "source": [
        "from sklearn.linear_model import LinearRegression\n",
        "from sklearn.metrics import r2_score\n",
        "\n",
        "# Initialize the model\n",
        "model = LinearRegression(fit_intercept=False)\n",
        "\n",
        "# Train the model on training data\n",
        "model.fit(X_train, y_train)\n",
        "\n",
        "# Predict on test data\n",
        "y_pred = model.predict(X_test)\n",
        "\n",
        "# Step 8: Calculate and print R² score\n",
        "r2 = r2_score(y_test, y_pred)\n",
        "print(\"R² Score on Test Set:\", r2)"
      ],
      "metadata": {
        "colab": {
          "base_uri": "https://localhost:8080/"
        },
        "id": "0BK61pSnZC_Z",
        "outputId": "7951a2ed-e47c-4e39-e5b6-7d14216eeb8d"
      },
      "execution_count": 7,
      "outputs": [
        {
          "output_type": "stream",
          "name": "stdout",
          "text": [
            "R² Score on Test Set: -0.41121711792312987\n"
          ]
        }
      ]
    },
    {
      "cell_type": "code",
      "source": [
        "import numpy as np\n",
        "\n",
        "# Step 9: Get the model coefficients\n",
        "coefficients = model.coef_\n",
        "\n",
        "# Step 10: Find index of the highest absolute coefficient\n",
        "index_max_coeff = np.argmax(np.abs(coefficients))\n",
        "\n",
        "print(\"Index of feature with highest absolute coefficient value:\", index_max_coeff)\n"
      ],
      "metadata": {
        "colab": {
          "base_uri": "https://localhost:8080/"
        },
        "id": "OuZr9EawZtgL",
        "outputId": "faef861a-95c0-4a9d-d322-be226ac16285"
      },
      "execution_count": 8,
      "outputs": [
        {
          "output_type": "stream",
          "name": "stdout",
          "text": [
            "Index of feature with highest absolute coefficient value: 5\n"
          ]
        }
      ]
    },
    {
      "cell_type": "code",
      "source": [
        "from sklearn.linear_model import Ridge\n",
        "\n",
        "# Step 11: Train Ridge Regression model\n",
        "ridge_model = Ridge(solver='sag', tol=0.0005, random_state=42)\n",
        "\n",
        "# Fit the model on training data\n",
        "ridge_model.fit(X_train, y_train)\n",
        "\n",
        "# Predict on test data\n",
        "y_pred_ridge = ridge_model.predict(X_test)\n",
        "\n",
        "# Step 12: Compute R² score\n",
        "r2_ridge = r2_score(y_test, y_pred_ridge)\n",
        "print(\"R² Score of Ridge Regression on Test Set:\", r2_ridge)"
      ],
      "metadata": {
        "colab": {
          "base_uri": "https://localhost:8080/"
        },
        "id": "7WL6ZDkdbDtT",
        "outputId": "09a378ac-464e-4dd4-e14f-91a32d3f5ed6"
      },
      "execution_count": 9,
      "outputs": [
        {
          "output_type": "stream",
          "name": "stdout",
          "text": [
            "R² Score of Ridge Regression on Test Set: 0.5031632306039973\n"
          ]
        }
      ]
    },
    {
      "cell_type": "code",
      "source": [
        "print(\"Intercept of Ridge Regression model:\", ridge_model.intercept_)\n"
      ],
      "metadata": {
        "colab": {
          "base_uri": "https://localhost:8080/"
        },
        "id": "wlxpDa3FbgH9",
        "outputId": "b46a973e-5dad-4c6e-99d5-4a9cfffadeec"
      },
      "execution_count": 10,
      "outputs": [
        {
          "output_type": "stream",
          "name": "stdout",
          "text": [
            "Intercept of Ridge Regression model: 8638.307615757858\n"
          ]
        }
      ]
    },
    {
      "cell_type": "code",
      "source": [
        "from sklearn.linear_model import Lasso\n",
        "\n",
        "# Step: Train Lasso Regression model\n",
        "lasso_model = Lasso(alpha=100, random_state=42)\n",
        "\n",
        "# Fit the model on training data\n",
        "lasso_model.fit(X_train, y_train)\n",
        "\n",
        "# Predict on test data\n",
        "y_pred_lasso = lasso_model.predict(X_test)\n",
        "\n",
        "# Compute R² score\n",
        "r2_lasso = r2_score(y_test, y_pred_lasso)\n",
        "print(\"R² Score of Lasso Regression on Test Set:\", r2_lasso)\n"
      ],
      "metadata": {
        "colab": {
          "base_uri": "https://localhost:8080/"
        },
        "id": "3NLyRn2BbgEh",
        "outputId": "c71d523b-15a6-42f8-a903-e82eb453611c"
      },
      "execution_count": 11,
      "outputs": [
        {
          "output_type": "stream",
          "name": "stdout",
          "text": [
            "R² Score of Lasso Regression on Test Set: 0.5013545795541585\n"
          ]
        }
      ]
    },
    {
      "cell_type": "code",
      "source": [
        "import numpy as np\n",
        "\n",
        "# Get coefficients from the trained Lasso model\n",
        "lasso_coeffs = lasso_model.coef_\n",
        "\n",
        "# Count how many are in the range [-1, 1]\n",
        "count_in_range = np.sum((lasso_coeffs >= -1) & (lasso_coeffs <= 1))\n",
        "\n",
        "print(\"Number of coefficients in the range [-1, 1]:\", count_in_range)\n"
      ],
      "metadata": {
        "colab": {
          "base_uri": "https://localhost:8080/"
        },
        "id": "TVC_y_B3cT4k",
        "outputId": "72b42fba-7fdf-4d59-f0fe-6e1825c02559"
      },
      "execution_count": 12,
      "outputs": [
        {
          "output_type": "stream",
          "name": "stdout",
          "text": [
            "Number of coefficients in the range [-1, 1]: 9\n"
          ]
        }
      ]
    },
    {
      "cell_type": "code",
      "source": [
        "from sklearn.neighbors import KNeighborsRegressor\n",
        "from sklearn.metrics import mean_squared_error\n",
        "\n",
        "# Step: Train KNeighborsRegressor\n",
        "knn_model = KNeighborsRegressor(n_neighbors=10, p=1)\n",
        "\n",
        "# Fit the model on training data\n",
        "knn_model.fit(X_train, y_train)\n",
        "\n",
        "# Predict on test data\n",
        "y_pred_knn = knn_model.predict(X_test)\n",
        "\n",
        "# Compute RMSE\n",
        "rmse_knn = np.sqrt(mean_squared_error(y_test, y_pred_knn))\n",
        "print(\"Root Mean Squared Error (RMSE) of KNN on Test Set:\", rmse_knn)\n"
      ],
      "metadata": {
        "colab": {
          "base_uri": "https://localhost:8080/"
        },
        "id": "X5jo--1PcvYw",
        "outputId": "525f31ae-cc7a-47ab-eb47-146a2089f249"
      },
      "execution_count": 13,
      "outputs": [
        {
          "output_type": "stream",
          "name": "stdout",
          "text": [
            "Root Mean Squared Error (RMSE) of KNN on Test Set: 6707.055787083381\n"
          ]
        }
      ]
    },
    {
      "cell_type": "code",
      "source": [
        "from sklearn.tree import DecisionTreeRegressor\n",
        "from sklearn.metrics import mean_squared_error\n",
        "\n",
        "# Step: Train Decision Tree Regressor\n",
        "tree_model = DecisionTreeRegressor(\n",
        "    max_depth=10,\n",
        "    min_samples_split=6,\n",
        "    min_samples_leaf=6,\n",
        "    random_state=42\n",
        ")\n",
        "\n",
        "# Fit the model on training data\n",
        "tree_model.fit(X_train, y_train)\n",
        "\n",
        "# Predict on test data\n",
        "y_pred_tree = tree_model.predict(X_test)\n",
        "\n",
        "# Compute RMSE\n",
        "rmse_tree = np.sqrt(mean_squared_error(y_test, y_pred_tree))\n",
        "print(\"Root Mean Squared Error (RMSE) of Decision Tree on Test Set:\", rmse_tree)\n"
      ],
      "metadata": {
        "colab": {
          "base_uri": "https://localhost:8080/"
        },
        "id": "GcgGvaEQdcFY",
        "outputId": "df107910-763a-4fa7-aa52-9edc4190729c"
      },
      "execution_count": 14,
      "outputs": [
        {
          "output_type": "stream",
          "name": "stdout",
          "text": [
            "Root Mean Squared Error (RMSE) of Decision Tree on Test Set: 6740.833851583081\n"
          ]
        }
      ]
    },
    {
      "cell_type": "code",
      "source": [
        "from sklearn.ensemble import AdaBoostRegressor\n",
        "from sklearn.model_selection import GridSearchCV\n",
        "from sklearn.metrics import r2_score\n",
        "\n",
        "# Step: Define parameter grid\n",
        "param_grid = {\n",
        "    'n_estimators': [10, 50, 100, 200, 500],\n",
        "    'learning_rate': [0.1, 0.5, 1, 2]\n",
        "}\n",
        "\n",
        "# Step: Initialize AdaBoostRegressor\n",
        "ada = AdaBoostRegressor(random_state=42)\n",
        "\n",
        "# Step: Apply GridSearchCV\n",
        "grid_search = GridSearchCV(estimator=ada,\n",
        "                           param_grid=param_grid,\n",
        "                           cv=4,\n",
        "                           scoring='r2',\n",
        "                           n_jobs=-1)\n",
        "\n",
        "# Fit on training data\n",
        "grid_search.fit(X_train, y_train)\n",
        "\n",
        "# Get the best model\n",
        "best_ada_model = grid_search.best_estimator_\n",
        "\n",
        "# Predict on test data\n",
        "y_pred_ada = best_ada_model.predict(X_test)\n",
        "\n",
        "# Compute R² score\n",
        "r2_ada = r2_score(y_test, y_pred_ada)\n",
        "\n",
        "# Display results\n",
        "print(\"Best Parameters:\", grid_search.best_params_)\n",
        "print(\"R² Score of Best AdaBoost Model on Test Set:\", r2_ada)\n"
      ],
      "metadata": {
        "colab": {
          "base_uri": "https://localhost:8080/"
        },
        "id": "7nZzB46geoNF",
        "outputId": "497cb68d-51b9-488d-a147-c21cbb119b8f"
      },
      "execution_count": 15,
      "outputs": [
        {
          "output_type": "stream",
          "name": "stdout",
          "text": [
            "Best Parameters: {'learning_rate': 0.1, 'n_estimators': 10}\n",
            "R² Score of Best AdaBoost Model on Test Set: 0.5400284992718735\n"
          ]
        }
      ]
    },
    {
      "cell_type": "code",
      "source": [
        "print(\"Best n_estimators:\", grid_search.best_params_['n_estimators'])\n"
      ],
      "metadata": {
        "colab": {
          "base_uri": "https://localhost:8080/"
        },
        "id": "3zu1AJ7UfXJD",
        "outputId": "a39a3a41-be25-42a3-e0cd-3865bcde9c4f"
      },
      "execution_count": 16,
      "outputs": [
        {
          "output_type": "stream",
          "name": "stdout",
          "text": [
            "Best n_estimators: 10\n"
          ]
        }
      ]
    }
  ],
  "metadata": {
    "colab": {
      "name": "Welcome to Colab",
      "toc_visible": true,
      "provenance": [],
      "include_colab_link": true
    },
    "kernelspec": {
      "display_name": "Python 3",
      "name": "python3"
    }
  },
  "nbformat": 4,
  "nbformat_minor": 0
}